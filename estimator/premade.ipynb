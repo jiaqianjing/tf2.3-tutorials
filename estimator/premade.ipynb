{
 "cells": [
  {
   "cell_type": "code",
   "execution_count": 1,
   "metadata": {},
   "outputs": [],
   "source": [
    "import tensorflow as tf\n",
    "\n",
    "import pandas as pd"
   ]
  },
  {
   "cell_type": "code",
   "execution_count": 3,
   "metadata": {},
   "outputs": [],
   "source": [
    "CSV_COLUMN_NAMES = ['SepalLength', 'SepalWidth', 'PetalLength', 'PetalWidth', 'Species']\n",
    "SPECIES = ['Setosa', 'Versicolor', 'Virginica']"
   ]
  },
  {
   "cell_type": "code",
   "execution_count": 4,
   "metadata": {},
   "outputs": [
    {
     "name": "stdout",
     "output_type": "stream",
     "text": [
      "Downloading data from https://storage.googleapis.com/download.tensorflow.org/data/iris_training.csv\n",
      "8192/2194 [================================================================================================================] - 0s 0us/step\n",
      "Downloading data from https://storage.googleapis.com/download.tensorflow.org/data/iris_test.csv\n",
      "8192/573 [============================================================================================================================================================================================================================================================================================================================================================================================================================================] - 0s 0us/step\n"
     ]
    }
   ],
   "source": [
    "train_path = tf.keras.utils.get_file(\"iris_training.csv\", \n",
    "                                     \"https://storage.googleapis.com/download.tensorflow.org/data/iris_training.csv\",\n",
    "                                     cache_dir='./')\n",
    "test_path = tf.keras.utils.get_file(\"iris_test.csv\", \n",
    "                                    \"https://storage.googleapis.com/download.tensorflow.org/data/iris_test.csv\", \n",
    "                                    cache_dir='./')\n",
    "\n",
    "train = pd.read_csv(train_path, names=CSV_COLUMN_NAMES, header=0)\n",
    "test = pd.read_csv(test_path, names=CSV_COLUMN_NAMES, header=0)"
   ]
  },
  {
   "cell_type": "code",
   "execution_count": 6,
   "metadata": {},
   "outputs": [
    {
     "data": {
      "text/html": [
       "<div>\n",
       "<style scoped>\n",
       "    .dataframe tbody tr th:only-of-type {\n",
       "        vertical-align: middle;\n",
       "    }\n",
       "\n",
       "    .dataframe tbody tr th {\n",
       "        vertical-align: top;\n",
       "    }\n",
       "\n",
       "    .dataframe thead th {\n",
       "        text-align: right;\n",
       "    }\n",
       "</style>\n",
       "<table border=\"1\" class=\"dataframe\">\n",
       "  <thead>\n",
       "    <tr style=\"text-align: right;\">\n",
       "      <th></th>\n",
       "      <th>SepalLength</th>\n",
       "      <th>SepalWidth</th>\n",
       "      <th>PetalLength</th>\n",
       "      <th>PetalWidth</th>\n",
       "      <th>Species</th>\n",
       "    </tr>\n",
       "  </thead>\n",
       "  <tbody>\n",
       "    <tr>\n",
       "      <th>0</th>\n",
       "      <td>6.4</td>\n",
       "      <td>2.8</td>\n",
       "      <td>5.6</td>\n",
       "      <td>2.2</td>\n",
       "      <td>2</td>\n",
       "    </tr>\n",
       "    <tr>\n",
       "      <th>1</th>\n",
       "      <td>5.0</td>\n",
       "      <td>2.3</td>\n",
       "      <td>3.3</td>\n",
       "      <td>1.0</td>\n",
       "      <td>1</td>\n",
       "    </tr>\n",
       "    <tr>\n",
       "      <th>2</th>\n",
       "      <td>4.9</td>\n",
       "      <td>2.5</td>\n",
       "      <td>4.5</td>\n",
       "      <td>1.7</td>\n",
       "      <td>2</td>\n",
       "    </tr>\n",
       "    <tr>\n",
       "      <th>3</th>\n",
       "      <td>4.9</td>\n",
       "      <td>3.1</td>\n",
       "      <td>1.5</td>\n",
       "      <td>0.1</td>\n",
       "      <td>0</td>\n",
       "    </tr>\n",
       "    <tr>\n",
       "      <th>4</th>\n",
       "      <td>5.7</td>\n",
       "      <td>3.8</td>\n",
       "      <td>1.7</td>\n",
       "      <td>0.3</td>\n",
       "      <td>0</td>\n",
       "    </tr>\n",
       "  </tbody>\n",
       "</table>\n",
       "</div>"
      ],
      "text/plain": [
       "   SepalLength  SepalWidth  PetalLength  PetalWidth  Species\n",
       "0          6.4         2.8          5.6         2.2        2\n",
       "1          5.0         2.3          3.3         1.0        1\n",
       "2          4.9         2.5          4.5         1.7        2\n",
       "3          4.9         3.1          1.5         0.1        0\n",
       "4          5.7         3.8          1.7         0.3        0"
      ]
     },
     "execution_count": 6,
     "metadata": {},
     "output_type": "execute_result"
    }
   ],
   "source": [
    "train.head()"
   ]
  },
  {
   "cell_type": "code",
   "execution_count": 9,
   "metadata": {},
   "outputs": [
    {
     "data": {
      "text/html": [
       "<div>\n",
       "<style scoped>\n",
       "    .dataframe tbody tr th:only-of-type {\n",
       "        vertical-align: middle;\n",
       "    }\n",
       "\n",
       "    .dataframe tbody tr th {\n",
       "        vertical-align: top;\n",
       "    }\n",
       "\n",
       "    .dataframe thead th {\n",
       "        text-align: right;\n",
       "    }\n",
       "</style>\n",
       "<table border=\"1\" class=\"dataframe\">\n",
       "  <thead>\n",
       "    <tr style=\"text-align: right;\">\n",
       "      <th></th>\n",
       "      <th>count</th>\n",
       "      <th>mean</th>\n",
       "      <th>std</th>\n",
       "      <th>min</th>\n",
       "      <th>25%</th>\n",
       "      <th>50%</th>\n",
       "      <th>75%</th>\n",
       "      <th>max</th>\n",
       "    </tr>\n",
       "  </thead>\n",
       "  <tbody>\n",
       "    <tr>\n",
       "      <th>SepalLength</th>\n",
       "      <td>120.0</td>\n",
       "      <td>5.845000</td>\n",
       "      <td>0.868578</td>\n",
       "      <td>4.4</td>\n",
       "      <td>5.075</td>\n",
       "      <td>5.8</td>\n",
       "      <td>6.425</td>\n",
       "      <td>7.9</td>\n",
       "    </tr>\n",
       "    <tr>\n",
       "      <th>SepalWidth</th>\n",
       "      <td>120.0</td>\n",
       "      <td>3.065000</td>\n",
       "      <td>0.427156</td>\n",
       "      <td>2.0</td>\n",
       "      <td>2.800</td>\n",
       "      <td>3.0</td>\n",
       "      <td>3.300</td>\n",
       "      <td>4.4</td>\n",
       "    </tr>\n",
       "    <tr>\n",
       "      <th>PetalLength</th>\n",
       "      <td>120.0</td>\n",
       "      <td>3.739167</td>\n",
       "      <td>1.822100</td>\n",
       "      <td>1.0</td>\n",
       "      <td>1.500</td>\n",
       "      <td>4.4</td>\n",
       "      <td>5.100</td>\n",
       "      <td>6.9</td>\n",
       "    </tr>\n",
       "    <tr>\n",
       "      <th>PetalWidth</th>\n",
       "      <td>120.0</td>\n",
       "      <td>1.196667</td>\n",
       "      <td>0.782039</td>\n",
       "      <td>0.1</td>\n",
       "      <td>0.300</td>\n",
       "      <td>1.3</td>\n",
       "      <td>1.800</td>\n",
       "      <td>2.5</td>\n",
       "    </tr>\n",
       "    <tr>\n",
       "      <th>Species</th>\n",
       "      <td>120.0</td>\n",
       "      <td>1.000000</td>\n",
       "      <td>0.840168</td>\n",
       "      <td>0.0</td>\n",
       "      <td>0.000</td>\n",
       "      <td>1.0</td>\n",
       "      <td>2.000</td>\n",
       "      <td>2.0</td>\n",
       "    </tr>\n",
       "  </tbody>\n",
       "</table>\n",
       "</div>"
      ],
      "text/plain": [
       "             count      mean       std  min    25%  50%    75%  max\n",
       "SepalLength  120.0  5.845000  0.868578  4.4  5.075  5.8  6.425  7.9\n",
       "SepalWidth   120.0  3.065000  0.427156  2.0  2.800  3.0  3.300  4.4\n",
       "PetalLength  120.0  3.739167  1.822100  1.0  1.500  4.4  5.100  6.9\n",
       "PetalWidth   120.0  1.196667  0.782039  0.1  0.300  1.3  1.800  2.5\n",
       "Species      120.0  1.000000  0.840168  0.0  0.000  1.0  2.000  2.0"
      ]
     },
     "execution_count": 9,
     "metadata": {},
     "output_type": "execute_result"
    }
   ],
   "source": [
    "train.describe().transpose()"
   ]
  },
  {
   "cell_type": "code",
   "execution_count": 11,
   "metadata": {},
   "outputs": [
    {
     "data": {
      "text/html": [
       "<div>\n",
       "<style scoped>\n",
       "    .dataframe tbody tr th:only-of-type {\n",
       "        vertical-align: middle;\n",
       "    }\n",
       "\n",
       "    .dataframe tbody tr th {\n",
       "        vertical-align: top;\n",
       "    }\n",
       "\n",
       "    .dataframe thead th {\n",
       "        text-align: right;\n",
       "    }\n",
       "</style>\n",
       "<table border=\"1\" class=\"dataframe\">\n",
       "  <thead>\n",
       "    <tr style=\"text-align: right;\">\n",
       "      <th></th>\n",
       "      <th>SepalLength</th>\n",
       "      <th>SepalWidth</th>\n",
       "      <th>PetalLength</th>\n",
       "      <th>PetalWidth</th>\n",
       "    </tr>\n",
       "  </thead>\n",
       "  <tbody>\n",
       "    <tr>\n",
       "      <th>0</th>\n",
       "      <td>6.4</td>\n",
       "      <td>2.8</td>\n",
       "      <td>5.6</td>\n",
       "      <td>2.2</td>\n",
       "    </tr>\n",
       "    <tr>\n",
       "      <th>1</th>\n",
       "      <td>5.0</td>\n",
       "      <td>2.3</td>\n",
       "      <td>3.3</td>\n",
       "      <td>1.0</td>\n",
       "    </tr>\n",
       "    <tr>\n",
       "      <th>2</th>\n",
       "      <td>4.9</td>\n",
       "      <td>2.5</td>\n",
       "      <td>4.5</td>\n",
       "      <td>1.7</td>\n",
       "    </tr>\n",
       "    <tr>\n",
       "      <th>3</th>\n",
       "      <td>4.9</td>\n",
       "      <td>3.1</td>\n",
       "      <td>1.5</td>\n",
       "      <td>0.1</td>\n",
       "    </tr>\n",
       "    <tr>\n",
       "      <th>4</th>\n",
       "      <td>5.7</td>\n",
       "      <td>3.8</td>\n",
       "      <td>1.7</td>\n",
       "      <td>0.3</td>\n",
       "    </tr>\n",
       "  </tbody>\n",
       "</table>\n",
       "</div>"
      ],
      "text/plain": [
       "   SepalLength  SepalWidth  PetalLength  PetalWidth\n",
       "0          6.4         2.8          5.6         2.2\n",
       "1          5.0         2.3          3.3         1.0\n",
       "2          4.9         2.5          4.5         1.7\n",
       "3          4.9         3.1          1.5         0.1\n",
       "4          5.7         3.8          1.7         0.3"
      ]
     },
     "execution_count": 11,
     "metadata": {},
     "output_type": "execute_result"
    }
   ],
   "source": [
    "train_y = train.pop('Species')\n",
    "test_y = test.pop('Species')\n",
    "\n",
    "# 标签列现已从数据中删除\n",
    "train.head()"
   ]
  },
  {
   "cell_type": "code",
   "execution_count": 12,
   "metadata": {},
   "outputs": [],
   "source": [
    "# 这只是一个实例：创建 input 函数返回的格式\n",
    "def input_evaluation_set():\n",
    "    features = {\n",
    "        'SepalLength': np.array([6.4, 5.0]),\n",
    "        'SepalWidth':  np.array([2.8, 2.3]),\n",
    "        'PetalLength': np.array([5.6, 3.3]),\n",
    "        'PetalWidth':  np.array([2.2, 1.0])\n",
    "    }\n",
    "    labels = np.array([2, 1])\n",
    "    return features, labels"
   ]
  },
  {
   "cell_type": "code",
   "execution_count": 13,
   "metadata": {},
   "outputs": [],
   "source": [
    "# 通过 pandas 读取数据， 简化构造 input 函数\n",
    "def input_fn(features, labels, training=True, batch_size=256):\n",
    "    \"\"\"An input function for training or evaluating\"\"\"\n",
    "    # 将输入转换为数据集。\n",
    "    dataset = tf.data.Dataset.from_tensor_slices((dict(features), labels))\n",
    "\n",
    "    # 如果在训练模式下混淆并重复数据。\n",
    "    if training:\n",
    "        dataset = dataset.shuffle(1000).repeat()\n",
    "\n",
    "    return dataset.batch(batch_size)\n"
   ]
  },
  {
   "cell_type": "markdown",
   "metadata": {},
   "source": [
    "## 定义特征列（feature columns）\n",
    "estimator 实例必填参数，用于描述模型应该如何使用特征字典中的原始输入数据"
   ]
  },
  {
   "cell_type": "code",
   "execution_count": 15,
   "metadata": {},
   "outputs": [],
   "source": [
    "# 特征列描述了如何使用输入。\n",
    "my_feature_columns = []\n",
    "for key in train.keys():\n",
    "    my_feature_columns.append(tf.feature_column.numeric_column(key=key))\n"
   ]
  },
  {
   "cell_type": "code",
   "execution_count": 16,
   "metadata": {},
   "outputs": [
    {
     "data": {
      "text/plain": [
       "[NumericColumn(key='SepalLength', shape=(1,), default_value=None, dtype=tf.float32, normalizer_fn=None),\n",
       " NumericColumn(key='SepalWidth', shape=(1,), default_value=None, dtype=tf.float32, normalizer_fn=None),\n",
       " NumericColumn(key='PetalLength', shape=(1,), default_value=None, dtype=tf.float32, normalizer_fn=None),\n",
       " NumericColumn(key='PetalWidth', shape=(1,), default_value=None, dtype=tf.float32, normalizer_fn=None)]"
      ]
     },
     "execution_count": 16,
     "metadata": {},
     "output_type": "execute_result"
    }
   ],
   "source": [
    "my_feature_columns"
   ]
  },
  {
   "cell_type": "code",
   "execution_count": 17,
   "metadata": {},
   "outputs": [
    {
     "name": "stdout",
     "output_type": "stream",
     "text": [
      "INFO:tensorflow:Using default config.\n",
      "WARNING:tensorflow:Using temporary folder as model directory: /var/folders/84/00xxzv8x4qgdx0bmh22wvhs40000gn/T/tmp1d8wsi1n\n",
      "INFO:tensorflow:Using config: {'_model_dir': '/var/folders/84/00xxzv8x4qgdx0bmh22wvhs40000gn/T/tmp1d8wsi1n', '_tf_random_seed': None, '_save_summary_steps': 100, '_save_checkpoints_steps': None, '_save_checkpoints_secs': 600, '_session_config': allow_soft_placement: true\n",
      "graph_options {\n",
      "  rewrite_options {\n",
      "    meta_optimizer_iterations: ONE\n",
      "  }\n",
      "}\n",
      ", '_keep_checkpoint_max': 5, '_keep_checkpoint_every_n_hours': 10000, '_log_step_count_steps': 100, '_train_distribute': None, '_device_fn': None, '_protocol': None, '_eval_distribute': None, '_experimental_distribute': None, '_experimental_max_worker_delay_secs': None, '_session_creation_timeout_secs': 7200, '_service': None, '_cluster_spec': ClusterSpec({}), '_task_type': 'worker', '_task_id': 0, '_global_id_in_cluster': 0, '_master': '', '_evaluation_master': '', '_is_chief': True, '_num_ps_replicas': 0, '_num_worker_replicas': 1}\n"
     ]
    }
   ],
   "source": [
    "# 构建一个拥有两个隐层，隐藏节点分别为 30 和 10 的深度神经网络。\n",
    "classifier = tf.estimator.DNNClassifier(feature_columns=my_feature_columns,\n",
    "                                        # 隐层所含结点数量分别为 30 和 10.\n",
    "                                        hidden_units=[30, 10],\n",
    "                                        # 模型必须从三个类别中做出选择。\n",
    "                                        n_classes=3)"
   ]
  },
  {
   "cell_type": "code",
   "execution_count": 22,
   "metadata": {},
   "outputs": [
    {
     "name": "stdout",
     "output_type": "stream",
     "text": [
      "WARNING:tensorflow:From /Users/Shared/miniconda3/envs/tf/lib/python3.7/site-packages/tensorflow/python/training/training_util.py:236: Variable.initialized_value (from tensorflow.python.ops.variables) is deprecated and will be removed in a future version.\n",
      "Instructions for updating:\n",
      "Use Variable.read_value. Variables in 2.X are initialized automatically both in eager and graph (inside tf.defun) contexts.\n",
      "INFO:tensorflow:Calling model_fn.\n",
      "WARNING:tensorflow:Layer dnn is casting an input tensor from dtype float64 to the layer's dtype of float32, which is new behavior in TensorFlow 2.  The layer has dtype float32 because its dtype defaults to floatx.\n",
      "\n",
      "If you intended to run this layer in float32, you can safely ignore this warning. If in doubt, this warning is likely only an issue if you are porting a TensorFlow 1.X model to TensorFlow 2.\n",
      "\n",
      "To change all layers to have dtype float64 by default, call `tf.keras.backend.set_floatx('float64')`. To change just this layer, pass dtype='float64' to the layer constructor. If you are the author of this layer, you can disable autocasting by passing autocast=False to the base Layer constructor.\n",
      "\n",
      "WARNING:tensorflow:From /Users/Shared/miniconda3/envs/tf/lib/python3.7/site-packages/tensorflow/python/keras/optimizer_v2/adagrad.py:83: calling Constant.__init__ (from tensorflow.python.ops.init_ops) with dtype is deprecated and will be removed in a future version.\n",
      "Instructions for updating:\n",
      "Call initializer instance with the dtype argument instead of passing it to the constructor\n",
      "INFO:tensorflow:Done calling model_fn.\n",
      "INFO:tensorflow:Create CheckpointSaverHook.\n",
      "INFO:tensorflow:Graph was finalized.\n",
      "INFO:tensorflow:Running local_init_op.\n",
      "INFO:tensorflow:Done running local_init_op.\n",
      "INFO:tensorflow:Calling checkpoint listeners before saving checkpoint 0...\n",
      "INFO:tensorflow:Saving checkpoints for 0 into /var/folders/84/00xxzv8x4qgdx0bmh22wvhs40000gn/T/tmp1d8wsi1n/model.ckpt.\n",
      "INFO:tensorflow:Calling checkpoint listeners after saving checkpoint 0...\n",
      "INFO:tensorflow:loss = 1.2729878, step = 0\n",
      "INFO:tensorflow:global_step/sec: 505.912\n",
      "INFO:tensorflow:loss = 1.1344385, step = 100 (0.199 sec)\n",
      "INFO:tensorflow:global_step/sec: 676.671\n",
      "INFO:tensorflow:loss = 1.0896945, step = 200 (0.147 sec)\n",
      "INFO:tensorflow:global_step/sec: 717.706\n",
      "INFO:tensorflow:loss = 1.0654608, step = 300 (0.139 sec)\n",
      "INFO:tensorflow:global_step/sec: 668.515\n",
      "INFO:tensorflow:loss = 1.0443115, step = 400 (0.150 sec)\n",
      "INFO:tensorflow:global_step/sec: 672.243\n",
      "INFO:tensorflow:loss = 1.0267843, step = 500 (0.149 sec)\n",
      "INFO:tensorflow:global_step/sec: 672.911\n",
      "INFO:tensorflow:loss = 1.010222, step = 600 (0.148 sec)\n",
      "INFO:tensorflow:global_step/sec: 655.028\n",
      "INFO:tensorflow:loss = 0.9959229, step = 700 (0.153 sec)\n",
      "INFO:tensorflow:global_step/sec: 660.385\n",
      "INFO:tensorflow:loss = 0.9843661, step = 800 (0.151 sec)\n",
      "INFO:tensorflow:global_step/sec: 771.115\n",
      "INFO:tensorflow:loss = 0.9722719, step = 900 (0.130 sec)\n",
      "INFO:tensorflow:global_step/sec: 722.263\n",
      "INFO:tensorflow:loss = 0.9616616, step = 1000 (0.138 sec)\n",
      "INFO:tensorflow:global_step/sec: 765.626\n",
      "INFO:tensorflow:loss = 0.94791216, step = 1100 (0.131 sec)\n",
      "INFO:tensorflow:global_step/sec: 719.264\n",
      "INFO:tensorflow:loss = 0.93893635, step = 1200 (0.139 sec)\n",
      "INFO:tensorflow:global_step/sec: 728.3\n",
      "INFO:tensorflow:loss = 0.93079185, step = 1300 (0.137 sec)\n",
      "INFO:tensorflow:global_step/sec: 695.501\n",
      "INFO:tensorflow:loss = 0.91960704, step = 1400 (0.144 sec)\n",
      "INFO:tensorflow:global_step/sec: 725.806\n",
      "INFO:tensorflow:loss = 0.90914166, step = 1500 (0.138 sec)\n",
      "INFO:tensorflow:global_step/sec: 691.022\n",
      "INFO:tensorflow:loss = 0.9021827, step = 1600 (0.145 sec)\n",
      "INFO:tensorflow:global_step/sec: 704.861\n",
      "INFO:tensorflow:loss = 0.8882512, step = 1700 (0.142 sec)\n",
      "INFO:tensorflow:global_step/sec: 727.256\n",
      "INFO:tensorflow:loss = 0.88008416, step = 1800 (0.138 sec)\n",
      "INFO:tensorflow:global_step/sec: 752.628\n",
      "INFO:tensorflow:loss = 0.8776486, step = 1900 (0.133 sec)\n",
      "INFO:tensorflow:global_step/sec: 736.376\n",
      "INFO:tensorflow:loss = 0.8645185, step = 2000 (0.136 sec)\n",
      "INFO:tensorflow:global_step/sec: 735.203\n",
      "INFO:tensorflow:loss = 0.8520686, step = 2100 (0.136 sec)\n",
      "INFO:tensorflow:global_step/sec: 719.01\n",
      "INFO:tensorflow:loss = 0.8487019, step = 2200 (0.139 sec)\n",
      "INFO:tensorflow:global_step/sec: 639.586\n",
      "INFO:tensorflow:loss = 0.837877, step = 2300 (0.156 sec)\n",
      "INFO:tensorflow:global_step/sec: 737.42\n",
      "INFO:tensorflow:loss = 0.8238494, step = 2400 (0.136 sec)\n",
      "INFO:tensorflow:global_step/sec: 701.977\n",
      "INFO:tensorflow:loss = 0.8135741, step = 2500 (0.142 sec)\n",
      "INFO:tensorflow:global_step/sec: 741.795\n",
      "INFO:tensorflow:loss = 0.81070757, step = 2600 (0.135 sec)\n",
      "INFO:tensorflow:global_step/sec: 686.761\n",
      "INFO:tensorflow:loss = 0.8001707, step = 2700 (0.146 sec)\n",
      "INFO:tensorflow:global_step/sec: 739.496\n",
      "INFO:tensorflow:loss = 0.792529, step = 2800 (0.135 sec)\n",
      "INFO:tensorflow:global_step/sec: 674.337\n",
      "INFO:tensorflow:loss = 0.78199553, step = 2900 (0.148 sec)\n",
      "INFO:tensorflow:global_step/sec: 757.529\n",
      "INFO:tensorflow:loss = 0.774219, step = 3000 (0.132 sec)\n",
      "INFO:tensorflow:global_step/sec: 764.233\n",
      "INFO:tensorflow:loss = 0.77148926, step = 3100 (0.131 sec)\n",
      "INFO:tensorflow:global_step/sec: 770.993\n",
      "INFO:tensorflow:loss = 0.7631084, step = 3200 (0.130 sec)\n",
      "INFO:tensorflow:global_step/sec: 712.037\n",
      "INFO:tensorflow:loss = 0.7536308, step = 3300 (0.141 sec)\n",
      "INFO:tensorflow:global_step/sec: 796.527\n",
      "INFO:tensorflow:loss = 0.7438639, step = 3400 (0.125 sec)\n",
      "INFO:tensorflow:global_step/sec: 707.925\n",
      "INFO:tensorflow:loss = 0.74280673, step = 3500 (0.141 sec)\n",
      "INFO:tensorflow:global_step/sec: 772.917\n",
      "INFO:tensorflow:loss = 0.73122865, step = 3600 (0.129 sec)\n",
      "INFO:tensorflow:global_step/sec: 733.079\n",
      "INFO:tensorflow:loss = 0.7277381, step = 3700 (0.136 sec)\n",
      "INFO:tensorflow:global_step/sec: 738.88\n",
      "INFO:tensorflow:loss = 0.70745826, step = 3800 (0.135 sec)\n",
      "INFO:tensorflow:global_step/sec: 784.986\n",
      "INFO:tensorflow:loss = 0.70794034, step = 3900 (0.127 sec)\n",
      "INFO:tensorflow:global_step/sec: 735.818\n",
      "INFO:tensorflow:loss = 0.71065676, step = 4000 (0.136 sec)\n",
      "INFO:tensorflow:global_step/sec: 771.188\n",
      "INFO:tensorflow:loss = 0.69328105, step = 4100 (0.130 sec)\n",
      "INFO:tensorflow:global_step/sec: 732.301\n",
      "INFO:tensorflow:loss = 0.68707025, step = 4200 (0.136 sec)\n",
      "INFO:tensorflow:global_step/sec: 767.92\n",
      "INFO:tensorflow:loss = 0.6846685, step = 4300 (0.130 sec)\n",
      "INFO:tensorflow:global_step/sec: 680.456\n",
      "INFO:tensorflow:loss = 0.6826123, step = 4400 (0.147 sec)\n",
      "INFO:tensorflow:global_step/sec: 662.476\n",
      "INFO:tensorflow:loss = 0.66948456, step = 4500 (0.151 sec)\n",
      "INFO:tensorflow:global_step/sec: 779.198\n",
      "INFO:tensorflow:loss = 0.6582627, step = 4600 (0.128 sec)\n",
      "INFO:tensorflow:global_step/sec: 784.438\n",
      "INFO:tensorflow:loss = 0.65216523, step = 4700 (0.127 sec)\n",
      "INFO:tensorflow:global_step/sec: 646.876\n",
      "INFO:tensorflow:loss = 0.6570019, step = 4800 (0.155 sec)\n",
      "INFO:tensorflow:global_step/sec: 677.296\n",
      "INFO:tensorflow:loss = 0.65476835, step = 4900 (0.148 sec)\n",
      "INFO:tensorflow:Calling checkpoint listeners before saving checkpoint 5000...\n",
      "INFO:tensorflow:Saving checkpoints for 5000 into /var/folders/84/00xxzv8x4qgdx0bmh22wvhs40000gn/T/tmp1d8wsi1n/model.ckpt.\n",
      "INFO:tensorflow:Calling checkpoint listeners after saving checkpoint 5000...\n",
      "INFO:tensorflow:Loss for final step: 0.6501205.\n"
     ]
    },
    {
     "data": {
      "text/plain": [
       "<tensorflow_estimator.python.estimator.canned.dnn.DNNClassifierV2 at 0x7fbcb2abd6d0>"
      ]
     },
     "execution_count": 22,
     "metadata": {},
     "output_type": "execute_result"
    }
   ],
   "source": [
    "# 训练模型。\n",
    "classifier.train(input_fn=lambda: input_fn(train, train_y, training=True),\n",
    "                 steps=5000)"
   ]
  },
  {
   "cell_type": "markdown",
   "metadata": {},
   "source": [
    "## 评估经过训练的模型"
   ]
  },
  {
   "cell_type": "code",
   "execution_count": 23,
   "metadata": {},
   "outputs": [
    {
     "name": "stdout",
     "output_type": "stream",
     "text": [
      "INFO:tensorflow:Calling model_fn.\n",
      "WARNING:tensorflow:Layer dnn is casting an input tensor from dtype float64 to the layer's dtype of float32, which is new behavior in TensorFlow 2.  The layer has dtype float32 because its dtype defaults to floatx.\n",
      "\n",
      "If you intended to run this layer in float32, you can safely ignore this warning. If in doubt, this warning is likely only an issue if you are porting a TensorFlow 1.X model to TensorFlow 2.\n",
      "\n",
      "To change all layers to have dtype float64 by default, call `tf.keras.backend.set_floatx('float64')`. To change just this layer, pass dtype='float64' to the layer constructor. If you are the author of this layer, you can disable autocasting by passing autocast=False to the base Layer constructor.\n",
      "\n",
      "INFO:tensorflow:Done calling model_fn.\n",
      "INFO:tensorflow:Starting evaluation at 2020-12-03T11:12:05Z\n",
      "INFO:tensorflow:Graph was finalized.\n",
      "INFO:tensorflow:Restoring parameters from /var/folders/84/00xxzv8x4qgdx0bmh22wvhs40000gn/T/tmp1d8wsi1n/model.ckpt-5000\n",
      "INFO:tensorflow:Running local_init_op.\n",
      "INFO:tensorflow:Done running local_init_op.\n",
      "INFO:tensorflow:Inference Time : 0.29209s\n",
      "INFO:tensorflow:Finished evaluation at 2020-12-03-11:12:05\n",
      "INFO:tensorflow:Saving dict for global step 5000: accuracy = 0.56666666, average_loss = 0.70720404, global_step = 5000, loss = 0.70720404\n",
      "INFO:tensorflow:Saving 'checkpoint_path' summary for global step 5000: /var/folders/84/00xxzv8x4qgdx0bmh22wvhs40000gn/T/tmp1d8wsi1n/model.ckpt-5000\n",
      "\n",
      "Test set accuracy: 0.567\n",
      "\n"
     ]
    }
   ],
   "source": [
    "eval_result = classifier.evaluate(input_fn=lambda: input_fn(test, test_y, training=False))\n",
    "\n",
    "print('\\nTest set accuracy: {accuracy:0.3f}\\n'.format(**eval_result))"
   ]
  },
  {
   "cell_type": "markdown",
   "metadata": {},
   "source": [
    "## 利用经过训练的模型进行预测（推理）"
   ]
  },
  {
   "cell_type": "code",
   "execution_count": 39,
   "metadata": {},
   "outputs": [],
   "source": [
    "# 由模型生成预测\n",
    "expected = ['Setosa', 'Versicolor', 'Virginica']\n",
    "predict_x = {\n",
    "    'SepalLength': [5.1, 5.9, 6.9],\n",
    "    'SepalWidth': [3.3, 3.0, 3.1],\n",
    "    'PetalLength': [1.7, 4.2, 5.4],\n",
    "    'PetalWidth': [0.5, 1.5, 2.1],\n",
    "}\n",
    "\n",
    "def input_fn(features, batch_size=256):\n",
    "    \"\"\"An input function for prediction.\"\"\"\n",
    "    # 将输入转换为无标签数据集。\n",
    "    return tf.data.Dataset.from_tensor_slices(dict(features)).batch(batch_size)\n",
    "\n",
    "predictions = classifier.predict(input_fn=lambda: input_fn(predict_x))"
   ]
  },
  {
   "cell_type": "code",
   "execution_count": 40,
   "metadata": {},
   "outputs": [
    {
     "name": "stdout",
     "output_type": "stream",
     "text": [
      "INFO:tensorflow:Calling model_fn.\n",
      "INFO:tensorflow:Done calling model_fn.\n",
      "INFO:tensorflow:Graph was finalized.\n",
      "INFO:tensorflow:Restoring parameters from /var/folders/84/00xxzv8x4qgdx0bmh22wvhs40000gn/T/tmp1d8wsi1n/model.ckpt-5000\n",
      "INFO:tensorflow:Running local_init_op.\n",
      "INFO:tensorflow:Done running local_init_op.\n",
      "{'logits': array([ 0.5256222, -2.1499095, -0.1994684], dtype=float32), 'probabilities': array([0.6438525 , 0.04434225, 0.3118053 ], dtype=float32), 'class_ids': array([0]), 'classes': array([b'0'], dtype=object), 'all_class_ids': array([0, 1, 2], dtype=int32), 'all_classes': array([b'0', b'1', b'2'], dtype=object)}\n",
      "{'logits': array([-0.7201937 ,  0.14778645,  0.22835225], dtype=float32), 'probabilities': array([0.16767138, 0.3994091 , 0.43291956], dtype=float32), 'class_ids': array([2]), 'classes': array([b'2'], dtype=object), 'all_class_ids': array([0, 1, 2], dtype=int32), 'all_classes': array([b'0', b'1', b'2'], dtype=object)}\n",
      "{'logits': array([-0.8894952 ,  0.44325727,  0.6578319 ], dtype=float32), 'probabilities': array([0.1053701 , 0.39950705, 0.4951229 ], dtype=float32), 'class_ids': array([2]), 'classes': array([b'2'], dtype=object), 'all_class_ids': array([0, 1, 2], dtype=int32), 'all_classes': array([b'0', b'1', b'2'], dtype=object)}\n"
     ]
    }
   ],
   "source": [
    "for i in predictions:\n",
    "    print(i)"
   ]
  },
  {
   "cell_type": "code",
   "execution_count": 26,
   "metadata": {},
   "outputs": [
    {
     "name": "stdout",
     "output_type": "stream",
     "text": [
      "INFO:tensorflow:Calling model_fn.\n",
      "INFO:tensorflow:Done calling model_fn.\n",
      "INFO:tensorflow:Graph was finalized.\n",
      "INFO:tensorflow:Restoring parameters from /var/folders/84/00xxzv8x4qgdx0bmh22wvhs40000gn/T/tmp1d8wsi1n/model.ckpt-5000\n",
      "INFO:tensorflow:Running local_init_op.\n",
      "INFO:tensorflow:Done running local_init_op.\n",
      "Prediction is \"Setosa\" (64.4%), expected \"Setosa\"\n",
      "Prediction is \"Virginica\" (43.3%), expected \"Versicolor\"\n",
      "Prediction is \"Virginica\" (49.5%), expected \"Virginica\"\n"
     ]
    }
   ],
   "source": [
    "for pred_dict, expec in zip(predictions, expected):\n",
    "    class_id = pred_dict['class_ids'][0]\n",
    "    probability = pred_dict['probabilities'][class_id]\n",
    "\n",
    "    print('Prediction is \"{}\" ({:.1f}%), expected \"{}\"'.format(\n",
    "        SPECIES[class_id], 100 * probability, expec))"
   ]
  },
  {
   "cell_type": "code",
   "execution_count": null,
   "metadata": {},
   "outputs": [],
   "source": []
  }
 ],
 "metadata": {
  "kernelspec": {
   "display_name": "tf",
   "language": "python",
   "name": "tf"
  },
  "language_info": {
   "codemirror_mode": {
    "name": "ipython",
    "version": 3
   },
   "file_extension": ".py",
   "mimetype": "text/x-python",
   "name": "python",
   "nbconvert_exporter": "python",
   "pygments_lexer": "ipython3",
   "version": "3.7.9"
  }
 },
 "nbformat": 4,
 "nbformat_minor": 4
}
