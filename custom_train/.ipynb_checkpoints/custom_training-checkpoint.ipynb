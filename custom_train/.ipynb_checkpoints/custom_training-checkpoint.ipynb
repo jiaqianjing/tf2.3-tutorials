{
 "cells": [
  {
   "cell_type": "code",
   "execution_count": 35,
   "metadata": {},
   "outputs": [],
   "source": [
    "import tensorflow as tf\n",
    "import matplotlib.pyplot as plt"
   ]
  },
  {
   "cell_type": "code",
   "execution_count": 36,
   "metadata": {},
   "outputs": [
    {
     "name": "stdout",
     "output_type": "stream",
     "text": [
      "Features: ['sepal_length', 'sepal_width', 'petal_length', 'petal_width']\n",
      "Label: species\n"
     ]
    }
   ],
   "source": [
    "# CSV文件中列的顺序\n",
    "column_names = ['sepal_length', 'sepal_width', 'petal_length', 'petal_width', 'species']\n",
    "\n",
    "feature_names = column_names[:-1]\n",
    "label_name = column_names[-1]\n",
    "\n",
    "print(\"Features: {}\".format(feature_names))\n",
    "print(\"Label: {}\".format(label_name))"
   ]
  },
  {
   "cell_type": "code",
   "execution_count": 37,
   "metadata": {},
   "outputs": [],
   "source": [
    "class_names = ['Iris setosa', 'Iris versicolor', 'Iris virginica']"
   ]
  },
  {
   "cell_type": "code",
   "execution_count": 38,
   "metadata": {},
   "outputs": [],
   "source": [
    "# download raw data\n",
    "train_path = tf.keras.utils.get_file(\"iris_training.csv\", \n",
    "                                     \"https://storage.googleapis.com/download.tensorflow.org/data/iris_training.csv\",\n",
    "                                     cache_dir='./')\n",
    "test_path = tf.keras.utils.get_file(\"iris_test.csv\", \n",
    "                                    \"https://storage.googleapis.com/download.tensorflow.org/data/iris_test.csv\", \n",
    "                                    cache_dir='./')"
   ]
  },
  {
   "cell_type": "code",
   "execution_count": 39,
   "metadata": {},
   "outputs": [],
   "source": [
    "batch_size = 32\n",
    "\n",
    "\n",
    "train_dataset = tf.data.experimental.make_csv_dataset(train_path,\n",
    "                                                      batch_size,\n",
    "                                                      column_names=column_names,\n",
    "                                                      label_name=label_name,\n",
    "                                                      num_epochs=1,\n",
    "                                                      shuffle=True)\n",
    "\n",
    "test_dataset = tf.data.experimental.make_csv_dataset(train_path,\n",
    "                                                      batch_size,\n",
    "                                                      column_names=column_names,\n",
    "                                                      label_name=label_name,\n",
    "                                                      num_epochs=1,\n",
    "                                                      shuffle=False)"
   ]
  },
  {
   "cell_type": "code",
   "execution_count": 40,
   "metadata": {},
   "outputs": [
    {
     "name": "stdout",
     "output_type": "stream",
     "text": [
      "OrderedDict([('sepal_length', <tf.Tensor: shape=(32,), dtype=float32, numpy=\n",
      "array([4.8, 6. , 4.4, 5.6, 5.5, 5.8, 7.4, 5.3, 5.6, 5.4, 5.7, 6.4, 6.8,\n",
      "       6.3, 6.8, 6.6, 6.7, 7.7, 5. , 7.6, 4.6, 6.6, 5.8, 6.5, 4.9, 6.3,\n",
      "       4.7, 6.8, 5.2, 6.2, 5.6, 6.4], dtype=float32)>), ('sepal_width', <tf.Tensor: shape=(32,), dtype=float32, numpy=\n",
      "array([3. , 3. , 3. , 2.5, 2.6, 2.8, 2.8, 3.7, 2.9, 3. , 2.9, 3.1, 2.8,\n",
      "       2.3, 3.2, 3. , 3. , 2.6, 3.3, 3. , 3.6, 2.9, 4. , 3.2, 2.5, 3.4,\n",
      "       3.2, 3. , 3.5, 2.2, 2.7, 2.8], dtype=float32)>), ('petal_length', <tf.Tensor: shape=(32,), dtype=float32, numpy=\n",
      "array([1.4, 4.8, 1.3, 3.9, 4.4, 5.1, 6.1, 1.5, 3.6, 4.5, 4.2, 5.5, 4.8,\n",
      "       4.4, 5.9, 4.4, 5. , 6.9, 1.4, 6.6, 1. , 4.6, 1.2, 5.1, 4.5, 5.6,\n",
      "       1.3, 5.5, 1.5, 4.5, 4.2, 5.6], dtype=float32)>), ('petal_width', <tf.Tensor: shape=(32,), dtype=float32, numpy=\n",
      "array([0.1, 1.8, 0.2, 1.1, 1.2, 2.4, 1.9, 0.2, 1.3, 1.5, 1.3, 1.8, 1.4,\n",
      "       1.3, 2.3, 1.4, 1.7, 2.3, 0.2, 2.1, 0.2, 1.3, 0.2, 2. , 1.7, 2.4,\n",
      "       0.2, 2.1, 0.2, 1.5, 1.3, 2.1], dtype=float32)>)])\n"
     ]
    }
   ],
   "source": [
    "features, labels = next(iter(train_dataset))\n",
    "\n",
    "print(features)"
   ]
  },
  {
   "cell_type": "code",
   "execution_count": 41,
   "metadata": {},
   "outputs": [
    {
     "data": {
      "image/png": "[encoded data removed]",
      "text/plain": [
       "<Figure size 432x288 with 1 Axes>"
      ]
     },
     "metadata": {
      "needs_background": "light"
     },
     "output_type": "display_data"
    }
   ],
   "source": [
    "plt.scatter(features['petal_length'],\n",
    "            features['sepal_length'],\n",
    "            c=labels,\n",
    "            cmap='viridis')\n",
    "\n",
    "plt.xlabel(\"Petal length\")\n",
    "plt.ylabel(\"Sepal length\")\n",
    "plt.show()"
   ]
  },
  {
   "cell_type": "code",
   "execution_count": 42,
   "metadata": {},
   "outputs": [],
   "source": [
    "# (batch_size, num_features)\n",
    "def pack_features_vector(features, labels):\n",
    "    \"\"\"\n",
    "    将一组特征列表（list）打包成一个特征向量\n",
    "    [[32], [32], [32], [32]] -> [[32, 4]]\n",
    "    tf.stack(list, axis=1): 将 N 个秩为 R 的向量 (A)，变成一个 R+1 的向量 (A, N）\n",
    "    \"\"\"\n",
    "    features = tf.stack(list(features.values()), axis=1)\n",
    "    return features, labels"
   ]
  },
  {
   "cell_type": "code",
   "execution_count": 43,
   "metadata": {},
   "outputs": [
    {
     "data": {
      "text/plain": [
       "<MapDataset shapes: ((None, 4), (None,)), types: (tf.float32, tf.int32)>"
      ]
     },
     "execution_count": 43,
     "metadata": {},
     "output_type": "execute_result"
    }
   ],
   "source": [
    "train_dataset = train_dataset.map(pack_features_vector)\n",
    "train_dataset"
   ]
  },
  {
   "cell_type": "code",
   "execution_count": 44,
   "metadata": {},
   "outputs": [
    {
     "data": {
      "text/plain": [
       "<tf.Tensor: shape=(32, 4), dtype=float32, numpy=\n",
       "array([[5.5, 2.4, 3.8, 1.1],\n",
       "       [5.8, 2.6, 4. , 1.2],\n",
       "       [7.9, 3.8, 6.4, 2. ],\n",
       "       [4.6, 3.1, 1.5, 0.2],\n",
       "       [4.5, 2.3, 1.3, 0.3],\n",
       "       [5. , 2.3, 3.3, 1. ],\n",
       "       [6. , 2.9, 4.5, 1.5],\n",
       "       [6.7, 3.3, 5.7, 2.1],\n",
       "       [7.7, 3.8, 6.7, 2.2],\n",
       "       [6.7, 3. , 5.2, 2.3],\n",
       "       [5.1, 3.8, 1.6, 0.2],\n",
       "       [5.4, 3.4, 1.5, 0.4],\n",
       "       [4.6, 3.2, 1.4, 0.2],\n",
       "       [5.1, 3.8, 1.9, 0.4],\n",
       "       [4.7, 3.2, 1.6, 0.2],\n",
       "       [4.9, 3. , 1.4, 0.2],\n",
       "       [5. , 3.5, 1.3, 0.3],\n",
       "       [7.2, 3. , 5.8, 1.6],\n",
       "       [4.9, 3.1, 1.5, 0.1],\n",
       "       [5. , 3.5, 1.6, 0.6],\n",
       "       [6.7, 3.1, 5.6, 2.4],\n",
       "       [7.2, 3.2, 6. , 1.8],\n",
       "       [5.2, 3.4, 1.4, 0.2],\n",
       "       [5. , 3.6, 1.4, 0.2],\n",
       "       [4.8, 3.1, 1.6, 0.2],\n",
       "       [6.6, 2.9, 4.6, 1.3],\n",
       "       [7.7, 2.6, 6.9, 2.3],\n",
       "       [5.6, 2.9, 3.6, 1.3],\n",
       "       [5.4, 3. , 4.5, 1.5],\n",
       "       [6.5, 3. , 5.8, 2.2],\n",
       "       [6.1, 2.8, 4. , 1.3],\n",
       "       [5.2, 3.5, 1.5, 0.2]], dtype=float32)>"
      ]
     },
     "execution_count": 44,
     "metadata": {},
     "output_type": "execute_result"
    }
   ],
   "source": [
    "features, labels = next(iter(train_dataset))\n",
    "\n",
    "features"
   ]
  },
  {
   "cell_type": "code",
   "execution_count": 45,
   "metadata": {},
   "outputs": [],
   "source": [
    "# 前项计算\n",
    "model = tf.keras.Sequential([\n",
    "  tf.keras.layers.Dense(10, activation=tf.nn.relu, input_shape=(4,)),  # 需要给出输入的形式\n",
    "  tf.keras.layers.Dense(10, activation=tf.nn.relu),\n",
    "  tf.keras.layers.Dense(3)\n",
    "])"
   ]
  },
  {
   "cell_type": "code",
   "execution_count": 46,
   "metadata": {},
   "outputs": [
    {
     "data": {
      "text/plain": [
       "<tf.Tensor: shape=(5, 3), dtype=float32, numpy=\n",
       "array([[-1.966444  , -1.2609706 ,  0.64045286],\n",
       "       [-2.0666964 , -1.3268392 ,  0.6746191 ],\n",
       "       [-2.9468424 , -2.0385637 ,  0.7882123 ],\n",
       "       [-0.9877722 , -0.45749253,  0.83216244],\n",
       "       [-1.1708478 , -0.50554466,  0.8047528 ]], dtype=float32)>"
      ]
     },
     "execution_count": 46,
     "metadata": {},
     "output_type": "execute_result"
    }
   ],
   "source": [
    "predictions = model(features)\n",
    "predictions[:5]"
   ]
  },
  {
   "cell_type": "code",
   "execution_count": 47,
   "metadata": {},
   "outputs": [
    {
     "data": {
      "text/plain": [
       "<tf.Tensor: shape=(5, 3), dtype=float32, numpy=\n",
       "array([[0.06030737, 0.12211066, 0.81758195],\n",
       "       [0.05375475, 0.1126504 , 0.8335948 ],\n",
       "       [0.02204082, 0.05466233, 0.92329687],\n",
       "       [0.1127286 , 0.19157183, 0.6956995 ],\n",
       "       [0.09846368, 0.19151972, 0.71001655]], dtype=float32)>"
      ]
     },
     "execution_count": 47,
     "metadata": {},
     "output_type": "execute_result"
    }
   ],
   "source": [
    "tf.nn.softmax(predictions[:5])"
   ]
  },
  {
   "cell_type": "code",
   "execution_count": 48,
   "metadata": {},
   "outputs": [
    {
     "name": "stdout",
     "output_type": "stream",
     "text": [
      "Prediction: [2 2 2 2 2 2 2 2 2 2 2 2 2 2 2 2 2 2 2 2 2 2 2 2 2 2 2 2 2 2 2 2]\n",
      "    Labels: [1 1 2 0 0 1 1 2 2 2 0 0 0 0 0 0 0 2 0 0 2 2 0 0 0 1 2 1 1 2 1 0]\n"
     ]
    }
   ],
   "source": [
    "print(\"Prediction: {}\".format(tf.argmax(predictions, axis=1)))\n",
    "print(\"    Labels: {}\".format(labels))"
   ]
  },
  {
   "cell_type": "markdown",
   "metadata": {},
   "source": [
    "# 训练"
   ]
  },
  {
   "cell_type": "code",
   "execution_count": 49,
   "metadata": {},
   "outputs": [
    {
     "name": "stdout",
     "output_type": "stream",
     "text": [
      "Loss test: 1.6481213569641113\n"
     ]
    }
   ],
   "source": [
    "# 定义 loss\n",
    "loss_fn = tf.keras.losses.SparseCategoricalCrossentropy(from_logits=True)\n",
    "l = loss_fn(y_true=labels, y_pred=model(features))\n",
    "\n",
    "print(\"Loss test: {}\".format(l))"
   ]
  },
  {
   "cell_type": "code",
   "execution_count": 50,
   "metadata": {},
   "outputs": [],
   "source": [
    "# 求梯度（反向链式求导）\n",
    "def grad(model, inputs, targets):\n",
    "    with tf.GradientTape() as tape:\n",
    "        loss_value = loss_fn(y_true=labels, y_pred=model(features))\n",
    "    return loss_value, tape.gradient(loss_value, model.trainable_variables)"
   ]
  },
  {
   "cell_type": "code",
   "execution_count": 51,
   "metadata": {},
   "outputs": [],
   "source": [
    "# 设置优化器\n",
    "optimizer = tf.keras.optimizers.Adam(learning_rate=0.01)"
   ]
  },
  {
   "cell_type": "code",
   "execution_count": 52,
   "metadata": {},
   "outputs": [
    {
     "name": "stdout",
     "output_type": "stream",
     "text": [
      "Step: 0, Initial Loss: 1.6481213569641113\n",
      "Step: 1,         Loss: 1.4311933517456055\n"
     ]
    }
   ],
   "source": [
    "# 训练一个 batch 的过程\n",
    "\n",
    "# 计算 loss, 求梯度\n",
    "loss_value, grads = grad(model, features, labels)\n",
    "\n",
    "print(\"Step: {}, Initial Loss: {}\".format(optimizer.iterations.numpy(),\n",
    "                                          loss_value.numpy()))\n",
    "# 更新参数\n",
    "optimizer.apply_gradients(zip(grads, model.trainable_variables))\n",
    "print(\"Step: {},         Loss: {}\".format(optimizer.iterations.numpy(),\n",
    "                                          loss_fn(y_true=labels, y_pred=model(features).numpy())))"
   ]
  },
  {
   "cell_type": "markdown",
   "metadata": {},
   "source": [
    "## 完整的训练过程"
   ]
  },
  {
   "cell_type": "code",
   "execution_count": 53,
   "metadata": {},
   "outputs": [
    {
     "name": "stdout",
     "output_type": "stream",
     "text": [
      "Epoch 000: Loss: 1.222, Accuracy: 35.000%\n",
      "Epoch 050: Loss: 0.010, Accuracy: 99.167%\n",
      "Epoch 100: Loss: 0.001, Accuracy: 97.500%\n",
      "Epoch 150: Loss: 0.000, Accuracy: 97.500%\n",
      "Epoch 200: Loss: 0.000, Accuracy: 97.500%\n"
     ]
    }
   ],
   "source": [
    "## Note: 使用相同的模型变量重新运行此单元\n",
    "\n",
    "# 保留结果用于绘制\n",
    "train_loss_results = []\n",
    "train_accuracy_results = []\n",
    "\n",
    "num_epochs = 201\n",
    "\n",
    "for epoch in range(num_epochs):\n",
    "    epoch_loss_avg = tf.keras.metrics.Mean()\n",
    "    epoch_accuracy = tf.keras.metrics.SparseCategoricalAccuracy()\n",
    "\n",
    "    # Training loop - using batches of 32\n",
    "    for x, y in train_dataset:\n",
    "        # 优化模型\n",
    "        loss_value, grads = grad(model, x, y)\n",
    "        optimizer.apply_gradients(zip(grads, model.trainable_variables))\n",
    "\n",
    "        # 追踪进度\n",
    "        epoch_loss_avg(loss_value)  # 添加当前的 batch loss\n",
    "        # 比较预测标签与真实标签\n",
    "        epoch_accuracy(y, model(x))\n",
    "\n",
    "    # 循环结束\n",
    "    train_loss_results.append(epoch_loss_avg.result())\n",
    "    train_accuracy_results.append(epoch_accuracy.result())\n",
    "\n",
    "    if epoch % 50 == 0:\n",
    "        print(\"Epoch {:03d}: Loss: {:.3f}, Accuracy: {:.3%}\".format(epoch,\n",
    "                                                                    epoch_loss_avg.result(),\n",
    "                                                                    epoch_accuracy.result()))"
   ]
  },
  {
   "cell_type": "code",
   "execution_count": 54,
   "metadata": {},
   "outputs": [
    {
     "data": {
      "image/png": "[encoded data removed]",
      "text/plain": [
       "<Figure size 864x576 with 2 Axes>"
      ]
     },
     "metadata": {
      "needs_background": "light"
     },
     "output_type": "display_data"
    }
   ],
   "source": [
    "fig, axes = plt.subplots(2, sharex=True, figsize=(12, 8))\n",
    "fig.suptitle('Training Metrics')\n",
    "\n",
    "axes[0].set_ylabel(\"Loss\", fontsize=14)\n",
    "axes[0].plot(train_loss_results)\n",
    "\n",
    "axes[1].set_ylabel(\"Accuracy\", fontsize=14)\n",
    "axes[1].set_xlabel(\"Epoch\", fontsize=14)\n",
    "axes[1].plot(train_accuracy_results)\n",
    "plt.show()"
   ]
  },
  {
   "cell_type": "markdown",
   "metadata": {},
   "source": [
    "## 测试集评估"
   ]
  },
  {
   "cell_type": "code",
   "execution_count": 56,
   "metadata": {},
   "outputs": [
    {
     "name": "stdout",
     "output_type": "stream",
     "text": [
      "Test set accuracy: 97.500%\n"
     ]
    }
   ],
   "source": [
    "test_accuracy = tf.keras.metrics.Accuracy()\n",
    "test_dataset = test_dataset.map(pack_features_vector)\n",
    "\n",
    "for (x, y) in test_dataset:\n",
    "    logits = model(x)\n",
    "    prediction = tf.argmax(logits, axis=1, output_type=tf.int32)\n",
    "    test_accuracy(prediction, y)\n",
    "\n",
    "print(\"Test set accuracy: {:.3%}\".format(test_accuracy.result()))"
   ]
  },
  {
   "cell_type": "code",
   "execution_count": 57,
   "metadata": {},
   "outputs": [
    {
     "data": {
      "text/plain": [
       "<tf.Tensor: shape=(24, 2), dtype=int32, numpy=\n",
       "array([[0, 0],\n",
       "       [2, 2],\n",
       "       [1, 1],\n",
       "       [0, 0],\n",
       "       [0, 0],\n",
       "       [1, 1],\n",
       "       [0, 0],\n",
       "       [1, 1],\n",
       "       [0, 0],\n",
       "       [0, 0],\n",
       "       [0, 0],\n",
       "       [0, 0],\n",
       "       [1, 1],\n",
       "       [0, 0],\n",
       "       [2, 2],\n",
       "       [1, 1],\n",
       "       [0, 0],\n",
       "       [2, 2],\n",
       "       [0, 0],\n",
       "       [1, 1],\n",
       "       [1, 1],\n",
       "       [0, 0],\n",
       "       [0, 0],\n",
       "       [1, 1]], dtype=int32)>"
      ]
     },
     "execution_count": 57,
     "metadata": {},
     "output_type": "execute_result"
    }
   ],
   "source": [
    "tf.stack([y, prediction],axis=1)"
   ]
  },
  {
   "cell_type": "markdown",
   "metadata": {},
   "source": [
    "## 预测"
   ]
  },
  {
   "cell_type": "code",
   "execution_count": 61,
   "metadata": {},
   "outputs": [
    {
     "name": "stdout",
     "output_type": "stream",
     "text": [
      "Example 0 prediction: Iris setosa (100.0%)\n",
      "Example 1 prediction: Iris versicolor (100.0%)\n",
      "Example 2 prediction: Iris virginica (99.9%)\n",
      "Example 3 prediction: Iris virginica (100.0%)\n"
     ]
    }
   ],
   "source": [
    "predict_dataset = tf.convert_to_tensor([\n",
    "    [5.1, 3.3, 1.7, 0.5,],\n",
    "    [5.9, 3.0, 4.2, 1.5,],\n",
    "    [6.9, 3.1, 5.4, 2.1],\n",
    "    [3.9, 3.1, 4.4, 3.1]\n",
    "])\n",
    "\n",
    "predictions = model(predict_dataset)\n",
    "\n",
    "for i, logits in enumerate(predictions):\n",
    "    class_idx = tf.argmax(logits).numpy()\n",
    "    p = tf.nn.softmax(logits)[class_idx]\n",
    "    name = class_names[class_idx]\n",
    "    print(\"Example {} prediction: {} ({:4.1f}%)\".format(i, name, 100*p))"
   ]
  },
  {
   "cell_type": "code",
   "execution_count": null,
   "metadata": {},
   "outputs": [],
   "source": []
  }
 ],
 "metadata": {
  "kernelspec": {
   "display_name": "tf",
   "language": "python",
   "name": "tf"
  },
  "language_info": {
   "codemirror_mode": {
    "name": "ipython",
    "version": 3
   },
   "file_extension": ".py",
   "mimetype": "text/x-python",
   "name": "python",
   "nbconvert_exporter": "python",
   "pygments_lexer": "ipython3",
   "version": "3.7.9"
  }
 },
 "nbformat": 4,
 "nbformat_minor": 4
}
